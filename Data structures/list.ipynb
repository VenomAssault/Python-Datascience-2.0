{
 "cells": [
  {
   "cell_type": "markdown",
   "metadata": {},
   "source": [
    "* Indexed,ordered,mutable,allows duplicate members,'[ ]' "
   ]
  },
  {
   "cell_type": "markdown",
   "metadata": {},
   "source": [
    "- creating\n",
    "- indexing and slicing\n",
    "- methods\n",
    "- traversal\n"
   ]
  },
  {
   "cell_type": "code",
   "execution_count": 1,
   "metadata": {},
   "outputs": [],
   "source": [
    "x = [] # empty list\n",
    "a = [1,2,3,4,5] # List of integers\n",
    "names = ['Alex', 'Arti','Anupam']# List of strings\n",
    "mixed = [1,'Alex',2,'Arti']# List of mixed datatypes\n",
    "nested = [1,[2,3],4] # nested list"
   ]
  },
  {
   "cell_type": "code",
   "execution_count": 2,
   "metadata": {},
   "outputs": [
    {
     "name": "stdout",
     "output_type": "stream",
     "text": [
      "[[1, 2, 3], [1, 2, 3], [1, 2, 3]]\n",
      "[1, 2, 3, 1, 2, 3, 1, 2, 3, 1, 2, 3, 1, 2, 3]\n",
      "[1, 1, 1, 1, 1, 1, 1, 1, 1, 1]\n"
     ]
    }
   ],
   "source": [
    "# creating a duplicated list\n",
    "a = [1,2,3]\n",
    "b = [a,a,a]\n",
    "print(b)\n",
    "# another way to create a duplicated list without nesting\n",
    "c = a*5\n",
    "print(c)\n",
    "# another one\n",
    "d = [1]*10\n",
    "print(d)"
   ]
  },
  {
   "cell_type": "code",
   "execution_count": 3,
   "metadata": {},
   "outputs": [
    {
     "name": "stdout",
     "output_type": "stream",
     "text": [
      "1\n",
      "10\n",
      "[1, 2, 3, 4, 5]\n",
      "[6, 7, 8, 9, 10]\n",
      "[2, 4, 6, 8, 10]\n",
      "[1, 3, 5, 7, 9]\n",
      "[10, 9, 8, 7, 6, 5, 4, 3, 2, 1]\n"
     ]
    }
   ],
   "source": [
    "numbers = [1,2,3,4,5,6,7,8,9,10]\n",
    "print(numbers[0])# first element\n",
    "print(numbers[-1])# last element \n",
    "print(numbers[:5])# first five element \n",
    "print(numbers[-5:])# last five element \n",
    "print(numbers[1::2])# odd indexed elements\n",
    "print(numbers[::2])# even indexed element\n",
    "print (numbers[::-1])# reverse the list"
   ]
  },
  {
   "cell_type": "code",
   "execution_count": 8,
   "metadata": {},
   "outputs": [
    {
     "name": "stdout",
     "output_type": "stream",
     "text": [
      "[7, 6, 5, 4, 3, 2, 1]\n",
      "[7, 6, 5, 4, 3, 2, 1]\n"
     ]
    }
   ],
   "source": [
    "print(numbers[6::-1])\n",
    "print(numbers[:7][::-1])"
   ]
  },
  {
   "cell_type": "markdown",
   "metadata": {},
   "source": [
    "# methods in list - 11\n",
    "- adding elements\n",
    "    - append\n",
    "    - extend\n",
    "    - insert\n",
    "- removing elements\n",
    "    - pop\n",
    "    - remove\n",
    "    - clear\n",
    "- utility methods\n",
    "    - index \n",
    "    - count\n",
    "    - sort\n",
    "    - reverse\n",
    "    - copy"
   ]
  },
  {
   "cell_type": "code",
   "execution_count": 12,
   "metadata": {},
   "outputs": [
    {
     "name": "stdout",
     "output_type": "stream",
     "text": [
      "['apple', 'banana', 12, 'apple']\n",
      "['apple', 'banana', 12, 'apple']\n"
     ]
    }
   ],
   "source": [
    "x.append('apple')\n",
    "print(x)\n",
    "print(x)"
   ]
  },
  {
   "cell_type": "code",
   "execution_count": 13,
   "metadata": {},
   "outputs": [
    {
     "name": "stdout",
     "output_type": "stream",
     "text": [
      "['apple', 'banana', 12, 'apple', 'banana']\n"
     ]
    }
   ],
   "source": [
    "x.append('banana')\n",
    "print(x)"
   ]
  },
  {
   "cell_type": "code",
   "execution_count": 14,
   "metadata": {},
   "outputs": [
    {
     "name": "stdout",
     "output_type": "stream",
     "text": [
      "['apple', 'banana', 12, 'apple', 'banana', 12]\n"
     ]
    }
   ],
   "source": [
    "x.append(12)\n",
    "print(x)"
   ]
  },
  {
   "cell_type": "code",
   "execution_count": 16,
   "metadata": {},
   "outputs": [
    {
     "name": "stdout",
     "output_type": "stream",
     "text": [
      "['vikram betaal', 'chacha chaudhary', 'raat pashmeene ki, by gulzaar', 'horse riding', 'eidgah']\n"
     ]
    }
   ],
   "source": [
    "books = []\n",
    "for i in range (5):\n",
    "    books.append(input('Enter a book: '))\n",
    "print(books)"
   ]
  },
  {
   "cell_type": "code",
   "execution_count": 29,
   "metadata": {},
   "outputs": [
    {
     "name": "stdout",
     "output_type": "stream",
     "text": [
      "['Pk', 'Vatsav', 'Yevadu', 'Avengers', 'Infinity war', 'Thor', 'Hulk']\n"
     ]
    }
   ],
   "source": [
    "movies = [ ]\n",
    "for i in range (7):\n",
    "    movies.append(input('Enter any movie name: '))\n",
    "print(movies)"
   ]
  },
  {
   "cell_type": "code",
   "execution_count": 32,
   "metadata": {},
   "outputs": [],
   "source": [
    "more_movies = ['Yevadu','Soldier','Jawan']\n"
   ]
  },
  {
   "cell_type": "code",
   "execution_count": 33,
   "metadata": {},
   "outputs": [
    {
     "data": {
      "text/plain": [
       "['Pk',\n",
       " 'Vatsav',\n",
       " 'Yevadu',\n",
       " 'Avengers',\n",
       " 'KHALNAYAK',\n",
       " 'Thor',\n",
       " 'Hulk',\n",
       " 'Yevadu',\n",
       " 'Soldier',\n",
       " 'Jawan']"
      ]
     },
     "execution_count": 33,
     "metadata": {},
     "output_type": "execute_result"
    }
   ],
   "source": [
    "movies.extend(more_movies)\n",
    "movies"
   ]
  },
  {
   "cell_type": "code",
   "execution_count": 37,
   "metadata": {},
   "outputs": [
    {
     "data": {
      "text/plain": [
       "['Pk',\n",
       " 'Vatsav',\n",
       " 'Yevadu',\n",
       " 'Avengers',\n",
       " 'KHALNAYAK',\n",
       " 'Thor',\n",
       " 'Hulk',\n",
       " 'KHALNAYAK',\n",
       " 'Soldier',\n",
       " 'Jawan']"
      ]
     },
     "execution_count": 37,
     "metadata": {},
     "output_type": "execute_result"
    }
   ],
   "source": [
    "movies[-3] = \"KHALNAYAK\"\n",
    "movies"
   ]
  },
  {
   "cell_type": "code",
   "execution_count": 38,
   "metadata": {},
   "outputs": [
    {
     "data": {
      "text/plain": [
       "['Pk',\n",
       " 'Vatsav',\n",
       " 'Yevadu',\n",
       " 'Avengers',\n",
       " 'KHALNAYAK',\n",
       " 'Thor',\n",
       " 'Hulk',\n",
       " 'KHALNAYAK',\n",
       " 'AVengers',\n",
       " 'Soldier',\n",
       " 'Jawan']"
      ]
     },
     "execution_count": 38,
     "metadata": {},
     "output_type": "execute_result"
    }
   ],
   "source": [
    "movies.insert(-2,'AVengers')\n",
    "movies"
   ]
  },
  {
   "cell_type": "code",
   "execution_count": 40,
   "metadata": {},
   "outputs": [
    {
     "data": {
      "text/plain": [
       "['Pk',\n",
       " 'Vatsav',\n",
       " 'Yevadu',\n",
       " 'Avengers',\n",
       " 'KHALNAYAK',\n",
       " 'Thor',\n",
       " 'Hulk',\n",
       " 'KHALNAYAK',\n",
       " 'AVengers',\n",
       " 'Soldier']"
      ]
     },
     "execution_count": 40,
     "metadata": {},
     "output_type": "execute_result"
    }
   ],
   "source": [
    "movies.pop(-1)\n",
    "movies"
   ]
  },
  {
   "cell_type": "code",
   "execution_count": 48,
   "metadata": {},
   "outputs": [
    {
     "data": {
      "text/plain": [
       "['Pk',\n",
       " 'Yevadu',\n",
       " 'Avengers',\n",
       " 'KHALNAYAK',\n",
       " 'Thor',\n",
       " 'Hulk',\n",
       " 'KHALNAYAK',\n",
       " 'AVengers']"
      ]
     },
     "execution_count": 48,
     "metadata": {},
     "output_type": "execute_result"
    }
   ],
   "source": [
    "if 'Vatsav' in movies:\n",
    "    movies.remove('Vatsav')\n",
    "movies\n"
   ]
  },
  {
   "cell_type": "code",
   "execution_count": 47,
   "metadata": {},
   "outputs": [
    {
     "data": {
      "text/plain": [
       "'Soldier'"
      ]
     },
     "execution_count": 47,
     "metadata": {},
     "output_type": "execute_result"
    }
   ],
   "source": [
    "movies.pop()"
   ]
  },
  {
   "cell_type": "code",
   "execution_count": 49,
   "metadata": {},
   "outputs": [
    {
     "data": {
      "text/plain": [
       "'Avengers'"
      ]
     },
     "execution_count": 49,
     "metadata": {},
     "output_type": "execute_result"
    }
   ],
   "source": [
    "movies.pop(2)"
   ]
  },
  {
   "cell_type": "code",
   "execution_count": 50,
   "metadata": {},
   "outputs": [
    {
     "data": {
      "text/plain": [
       "['Pk', 'Yevadu', 'KHALNAYAK', 'Thor', 'Hulk', 'KHALNAYAK', 'AVengers']"
      ]
     },
     "execution_count": 50,
     "metadata": {},
     "output_type": "execute_result"
    }
   ],
   "source": [
    "movies"
   ]
  },
  {
   "cell_type": "markdown",
   "metadata": {},
   "source": [
    "# utility methods\n",
    "- index\n",
    "- count\n",
    "- sort \n",
    "- revrse\n",
    "- copy"
   ]
  },
  {
   "cell_type": "code",
   "execution_count": 4,
   "metadata": {},
   "outputs": [
    {
     "name": "stdout",
     "output_type": "stream",
     "text": [
      "0\n",
      "6\n",
      "0\n"
     ]
    }
   ],
   "source": [
    "x = [101,102,103,104,105,101,102]\n",
    "print(x.index(101))\n",
    "print(x.index(102,2))\n",
    "print(x.index(101,0,3))"
   ]
  },
  {
   "cell_type": "code",
   "execution_count": 5,
   "metadata": {},
   "outputs": [
    {
     "name": "stdout",
     "output_type": "stream",
     "text": [
      "2\n",
      "1\n",
      "2\n"
     ]
    }
   ],
   "source": [
    "print(x.count(101))\n",
    "print(x.count(103))\n",
    "print(x.count(102))"
   ]
  },
  {
   "cell_type": "code",
   "execution_count": 6,
   "metadata": {},
   "outputs": [
    {
     "name": "stdout",
     "output_type": "stream",
     "text": [
      "[102, 101, 105, 104, 103, 102, 101]\n"
     ]
    }
   ],
   "source": [
    "x.reverse()\n",
    "print(x)"
   ]
  },
  {
   "cell_type": "code",
   "execution_count": 8,
   "metadata": {},
   "outputs": [
    {
     "name": "stdout",
     "output_type": "stream",
     "text": [
      "[101, 101, 102, 102, 103, 104, 105]\n",
      "[105, 104, 103, 102, 102, 101, 101]\n"
     ]
    }
   ],
   "source": [
    "x.sort()\n",
    "print(x)\n",
    "\n",
    "x.sort(reverse=True)\n",
    "print(x)\n"
   ]
  },
  {
   "cell_type": "code",
   "execution_count": 9,
   "metadata": {},
   "outputs": [
    {
     "name": "stdout",
     "output_type": "stream",
     "text": [
      "[105, 104, 103, 102, 102, 101, 101]\n",
      "[105, 104, 103, 102, 102, 101, 101]\n",
      "[105, 104, 103, 102, 102, 101, 101, 106]\n",
      "[104, 103, 102, 102, 101, 101]\n"
     ]
    }
   ],
   "source": [
    "x1 = x.copy()\n",
    "print(x1)\n",
    "print(x)\n",
    "x.append(106)\n",
    "x1.remove(105)\n",
    "print(x)\n",
    "print(x1)"
   ]
  },
  {
   "cell_type": "code",
   "execution_count": null,
   "metadata": {},
   "outputs": [],
   "source": []
  }
 ],
 "metadata": {
  "kernelspec": {
   "display_name": "base",
   "language": "python",
   "name": "python3"
  },
  "language_info": {
   "codemirror_mode": {
    "name": "ipython",
    "version": 3
   },
   "file_extension": ".py",
   "mimetype": "text/x-python",
   "name": "python",
   "nbconvert_exporter": "python",
   "pygments_lexer": "ipython3",
   "version": "3.11.4"
  }
 },
 "nbformat": 4,
 "nbformat_minor": 2
}
