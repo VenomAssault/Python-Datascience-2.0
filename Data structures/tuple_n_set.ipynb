{
 "cells": [
  {
   "cell_type": "markdown",
   "metadata": {},
   "source": [
    "* Tuple\n",
    "    - indexed , ordered , \"immutable\", allows duplicate members,'( )'\n",
    "* Set\n",
    "    - unindex, \"unordered\" ,mutable,\"unique values only\", '{}'"
   ]
  },
  {
   "cell_type": "code",
   "execution_count": null,
   "metadata": {},
   "outputs": [],
   "source": []
  }
 ],
 "metadata": {
  "language_info": {
   "name": "python"
  }
 },
 "nbformat": 4,
 "nbformat_minor": 2
}
