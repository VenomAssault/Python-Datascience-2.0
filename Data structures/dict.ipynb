{
 "cells": [
  {
   "cell_type": "markdown",
   "metadata": {},
   "source": [
    "* \"ordered\", mutable, \"unique keys only\",\"allows duplicate value\",'{key:value}'"
   ]
  },
  {
   "cell_type": "code",
   "execution_count": null,
   "metadata": {},
   "outputs": [],
   "source": []
  }
 ],
 "metadata": {
  "language_info": {
   "name": "python"
  }
 },
 "nbformat": 4,
 "nbformat_minor": 2
}
