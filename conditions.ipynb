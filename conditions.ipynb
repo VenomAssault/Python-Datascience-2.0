{
 "cells": [
  {
   "cell_type": "markdown",
   "metadata": {},
   "source": [
    "# Conditions\n",
    "* If \n",
    "* If-else\n",
    "* Nested If-else\n",
    "* Ladder If-elif\n",
    "* match-case\n",
    "\n",
    "## Conditional Operators And Logical Operators\n",
    "* '<,>,<=,>=,==,!='\n",
    "* and or not"
   ]
  },
  {
   "cell_type": "code",
   "execution_count": 2,
   "metadata": {},
   "outputs": [
    {
     "name": "stdout",
     "output_type": "stream",
     "text": [
      "end\n"
     ]
    }
   ],
   "source": [
    "x = -10\n",
    "if x > 5:\n",
    "    print('yes')\n",
    "    print('hello')\n",
    "print('end')"
   ]
  },
  {
   "cell_type": "code",
   "execution_count": 6,
   "metadata": {},
   "outputs": [
    {
     "name": "stdout",
     "output_type": "stream",
     "text": [
      "SIMPLE INTEREST: 2.52\n"
     ]
    }
   ],
   "source": [
    "p = int(input('Enter principle '))\n",
    "r = int(input('Enter rate '))\n",
    "t = int(input('Enter interest '))\n",
    "c = (p*r*t/100)\n",
    "print(f'SIMPLE INTEREST: {c}')"
   ]
  },
  {
   "cell_type": "code",
   "execution_count": 7,
   "metadata": {},
   "outputs": [
    {
     "name": "stdout",
     "output_type": "stream",
     "text": [
      "SIMPLE INTEREST: 1.2\n"
     ]
    }
   ],
   "source": [
    "p = int(input('Enter principle '))\n",
    "t = int(input('Enter time: '))\n",
    "if p >= 15000:\n",
    "    r=3\n",
    "else:\n",
    "    r=4\n",
    "si = p*r*t/100\n",
    "print(f'SIMPLE INTEREST: {si}')"
   ]
  },
  {
   "cell_type": "code",
   "execution_count": 9,
   "metadata": {},
   "outputs": [
    {
     "name": "stdout",
     "output_type": "stream",
     "text": [
      "X is greater than 20\n",
      "X is greater than -20\n"
     ]
    }
   ],
   "source": [
    "x=100\n",
    "if x> 20:\n",
    "    print('X is greater than 20')\n",
    "if x > -20:\n",
    "    print('X is greater than -20')"
   ]
  },
  {
   "cell_type": "markdown",
   "metadata": {},
   "source": [
    "* if elif (related conditions) (conditional ladder)"
   ]
  },
  {
   "cell_type": "code",
   "execution_count": 11,
   "metadata": {},
   "outputs": [
    {
     "name": "stdout",
     "output_type": "stream",
     "text": [
      "a+b is greater than 5\n"
     ]
    }
   ],
   "source": [
    "a,b = 2,5\n",
    "if a+b>10:\n",
    "    print('a+b is greater than 10')\n",
    "elif a+b>5:\n",
    "    print('a+b is greater than 5')\n",
    "elif a+b>0:\n",
    "    print('a+b is greater than 0')\n",
    "elif a>10:\n",
    "    print(\"a is greater than 10\")"
   ]
  },
  {
   "cell_type": "markdown",
   "metadata": {},
   "source": [
    "wap to calc total salary of employee based on following conditions\n",
    "- bs is greater than 25k, hra = 30%bs"
   ]
  },
  {
   "cell_type": "code",
   "execution_count": 20,
   "metadata": {},
   "outputs": [
    {
     "name": "stdout",
     "output_type": "stream",
     "text": [
      "TOTAL SALARY:53750.0\n"
     ]
    }
   ],
   "source": [
    "bs = int(input('Enter basic salary: '))\n",
    "if bs>25000:\n",
    "    hra = bs/100*30\n",
    "    da = bs/100*95\n",
    "    ts = bs+hra+da\n",
    "    print(f'TOTAL SALARY:{ts}')\n",
    "elif bs>20000:\n",
    "    hra = bs/100*25\n",
    "    da = bs/100*90\n",
    "    ts = bs+hra+da\n",
    "    print(f'TOTAL SALARY:{ts}')\n",
    "elif bs>15000:\n",
    "    hra = bs/100*20\n",
    "    da = bs/100*85\n",
    "    ts = bs+hra+da\n",
    "    print(f'TOTAL SALARY:{ts}')\n",
    "else:\n",
    "    hra,da = 0,0\n",
    "    ts = bs+hra+da\n",
    "    print(f'TOTAL SALARY:{ts}')"
   ]
  },
  {
   "cell_type": "code",
   "execution_count": 24,
   "metadata": {},
   "outputs": [
    {
     "name": "stdout",
     "output_type": "stream",
     "text": [
      "you are the caterers\n"
     ]
    }
   ],
   "source": [
    "name = input('Enter your name: ')\n",
    "match (name):\n",
    "    case \"Ajay\":\n",
    "        print(\"Welcome mr. Ajay\")\n",
    "    case \"Vijay\" | \"Anuj\":\n",
    "        print(\"you are the caterers\")\n",
    "    case \"Rahul\":\n",
    "        print(\"you are the manager\")\n",
    "    case \"ashish\":\n",
    "        print(\"You are not allowed\")\n",
    "    case _:\n",
    "        print(\"I don't know you\")"
   ]
  },
  {
   "cell_type": "code",
   "execution_count": 28,
   "metadata": {},
   "outputs": [
    {
     "name": "stdout",
     "output_type": "stream",
     "text": [
      "invalid password\n"
     ]
    }
   ],
   "source": [
    "username = input(\"enter your username: \")\n",
    "password = input(\"enter your password: \")\n",
    "\n",
    "if len(username)>0:\n",
    "    if len(password)>0:\n",
    "        if username == 'zaid':\n",
    "            if password == 'admin':\n",
    "                print(\"Welcome\")\n",
    "            else:\n",
    "                print(\"invalid password\")\n",
    "        else:\n",
    "            print(\"invalid username\")\n",
    "    else:\n",
    "        print(\"PASSWORD IS REQUIRED\")\n",
    "else:\n",
    "    print(\"USERNAME IS REQUIRED\")"
   ]
  },
  {
   "cell_type": "markdown",
   "metadata": {},
   "source": [
    "ternary conditional operator\n",
    "* <expert> if <condition> else <expr2>"
   ]
  },
  {
   "cell_type": "code",
   "execution_count": 29,
   "metadata": {},
   "outputs": [
    {
     "name": "stdout",
     "output_type": "stream",
     "text": [
      "name ok\n"
     ]
    }
   ],
   "source": [
    "name = input(\"enter your name:\")\n",
    "print(\"name too big\" if len(name)>10 else \"name ok\")"
   ]
  },
  {
   "cell_type": "code",
   "execution_count": 32,
   "metadata": {},
   "outputs": [
    {
     "name": "stdout",
     "output_type": "stream",
     "text": [
      "name too big\n"
     ]
    }
   ],
   "source": [
    "name = input(\"enter your name:\")\n",
    "if len(name) > 10:\n",
    "    print(\"name too big\")\n",
    "else:\n",
    "    print(\"name ok\")\n",
    "    "
   ]
  },
  {
   "cell_type": "code",
   "execution_count": 5,
   "metadata": {},
   "outputs": [
    {
     "name": "stdout",
     "output_type": "stream",
     "text": [
      "You details are correct\n",
      "You are registered\n",
      "successfully\n"
     ]
    }
   ],
   "source": [
    "uname = \"ajay\"\n",
    "pwd = \"123\"\n",
    "cpwd = \"123\"\n",
    "email = \"ajay111@gmail.com\"\n",
    "if len(uname) > 0 and len(uname) <= 50:\n",
    "    if len(pwd) > 0 and len(pwd) <= 12 and uname not in pwd:\n",
    "        if pwd == cpwd:\n",
    "            if '@' in email and '.' in email:\n",
    "                print(\"You details are correct\")\n",
    "                print(\"You are registered\")\n",
    "                print(\"successfully\")\n",
    "            else: \n",
    "                print(\"Invalid email\")\n",
    "        else:\n",
    "            print(\"Passwords do not match\")\n",
    "    else:\n",
    "        print(\"Invalid password\")\n",
    "else:\n",
    "    print(\"Invalid username\")"
   ]
  },
  {
   "cell_type": "code",
   "execution_count": null,
   "metadata": {},
   "outputs": [],
   "source": []
  }
 ],
 "metadata": {
  "kernelspec": {
   "display_name": "base",
   "language": "python",
   "name": "python3"
  },
  "language_info": {
   "codemirror_mode": {
    "name": "ipython",
    "version": 3
   },
   "file_extension": ".py",
   "mimetype": "text/x-python",
   "name": "python",
   "nbconvert_exporter": "python",
   "pygments_lexer": "ipython3",
   "version": "3.11.4"
  },
  "orig_nbformat": 4
 },
 "nbformat": 4,
 "nbformat_minor": 2
}
