{
 "cells": [
  {
   "cell_type": "code",
   "execution_count": 5,
   "metadata": {},
   "outputs": [
    {
     "name": "stdout",
     "output_type": "stream",
     "text": [
      "[[99 12 56 78]\n",
      " [69 31 52 20]\n",
      " [21 66 31 90]\n",
      " [ 2 12 41 27]]\n"
     ]
    }
   ],
   "source": [
    "import numpy as np\n",
    "x = np.random.randint(1,100,(4, 4))\n",
    "print(x)"
   ]
  },
  {
   "cell_type": "code",
   "execution_count": 4,
   "metadata": {},
   "outputs": [
    {
     "name": "stdout",
     "output_type": "stream",
     "text": [
      "1193\n",
      "[216 265 177 141 211 183]\n",
      "[322 212 285 374]\n"
     ]
    }
   ],
   "source": [
    "# sum of all values\n",
    "total = x.sum() # or np.sum(x)\n",
    "print(total)\n",
    "#sum of each column\n",
    "col_total = x.sum(axis=0) # or np.sum(x,axis = 0)\n",
    "print(col_total)\n",
    "# sum of all rows\n",
    "row_total = x.sum(axis=1) # or np.sum(x,axis = 1)\n",
    "print(row_total)"
   ]
  },
  {
   "cell_type": "code",
   "execution_count": 6,
   "metadata": {},
   "outputs": [
    {
     "name": "stdout",
     "output_type": "stream",
     "text": [
      "48.5\n"
     ]
    }
   ],
   "source": [
    "median = np.median(x)\n",
    "print(median)"
   ]
  },
  {
   "cell_type": "code",
   "execution_count": 7,
   "metadata": {},
   "outputs": [
    {
     "name": "stdout",
     "output_type": "stream",
     "text": [
      "[[-0.96611777  0.0353983  -0.64353813  0.83665564  0.98662759  0.1673557 ]\n",
      " [ 0.84147098  0.92002604 -0.00885131 -0.90557836 -0.96611777  0.74511316]\n",
      " [ 0.99287265  0.55142668  0.74511316  0.82682868  0.39592515 -0.64353813]\n",
      " [ 0.98358775 -0.62988799  0.51397846 -0.40403765  0.85090352 -0.83177474]]\n"
     ]
    }
   ],
   "source": [
    "print(np.sin(x))"
   ]
  },
  {
   "cell_type": "code",
   "execution_count": 9,
   "metadata": {},
   "outputs": [
    {
     "data": {
      "text/plain": [
       "0"
      ]
     },
     "execution_count": 9,
     "metadata": {},
     "output_type": "execute_result"
    }
   ],
   "source": [
    "x.prod() # product of all values\n",
    "\n"
   ]
  },
  {
   "cell_type": "code",
   "execution_count": 11,
   "metadata": {},
   "outputs": [
    {
     "data": {
      "text/plain": [
       "30789632.000000022"
      ]
     },
     "execution_count": 11,
     "metadata": {},
     "output_type": "execute_result"
    }
   ],
   "source": [
    "np.linalg.det(x)"
   ]
  },
  {
   "cell_type": "code",
   "execution_count": 16,
   "metadata": {},
   "outputs": [
    {
     "name": "stdout",
     "output_type": "stream",
     "text": [
      "[[6 3 4 4 5]\n",
      " [7 4 2 9 5]\n",
      " [7 7 5 8 4]\n",
      " [3 4 7 5 9]\n",
      " [8 2 7 5 9]]\n",
      "checkin if there is no zeros in the matrix\n",
      "True\n"
     ]
    }
   ],
   "source": [
    "y = np.random.randint(0,10,(5,5))\n",
    "print(y)\n",
    "print('checkin if there is no zeros in the matrix')\n",
    "print(np.all(y)) # or y.all()"
   ]
  },
  {
   "cell_type": "code",
   "execution_count": 19,
   "metadata": {},
   "outputs": [
    {
     "name": "stdout",
     "output_type": "stream",
     "text": [
      "[[0 1 0]\n",
      " [0 0 0]\n",
      " [0 1 0]]\n",
      "checking if there is atleast one -/+ value in the matrix\n",
      "True\n"
     ]
    }
   ],
   "source": [
    "z = np.random.choice([0,1,0,0],(3,3))\n",
    "print(z)\n",
    "print('checking if there is atleast one -/+ value in the matrix')\n",
    "print(z.any())"
   ]
  },
  {
   "cell_type": "code",
   "execution_count": 23,
   "metadata": {},
   "outputs": [
    {
     "name": "stdout",
     "output_type": "stream",
     "text": [
      "shape (4, 4)\n",
      "x\n",
      "[[3 8 7 1]\n",
      " [6 1 7 5]\n",
      " [7 2 3 2]\n",
      " [6 4 7 2]]\n",
      "x transposed\n",
      "[[3 6 7 6]\n",
      " [8 1 2 4]\n",
      " [7 7 3 7]\n",
      " [1 5 2 2]]\n",
      "x flattened\n",
      "[3 6 7 6 8 1 2 4 7 7 3 7 1 5 2 2]\n"
     ]
    }
   ],
   "source": [
    "x = np.random.randint(1,10,(4, 4))\n",
    "print('shape',x.shape)\n",
    "print('x')\n",
    "print(x)\n",
    "x = x.T # transpose\n",
    "print('x transposed')\n",
    "print(x)\n",
    "x = x.flatten()\n",
    "print('x flattened')\n",
    "print(x)"
   ]
  },
  {
   "cell_type": "code",
   "execution_count": 25,
   "metadata": {},
   "outputs": [
    {
     "data": {
      "text/plain": [
       "array([[3, 6, 7, 6, 8, 1, 2, 4],\n",
       "       [7, 7, 3, 7, 1, 5, 2, 2]])"
      ]
     },
     "execution_count": 25,
     "metadata": {},
     "output_type": "execute_result"
    }
   ],
   "source": [
    "x.reshape(2,8)"
   ]
  },
  {
   "cell_type": "code",
   "execution_count": 26,
   "metadata": {},
   "outputs": [
    {
     "data": {
      "text/plain": [
       "array([[[[[[3, 6, 7, 6, 8, 1, 2, 4],\n",
       "           [7, 7, 3, 7, 1, 5, 2, 2]]]]]])"
      ]
     },
     "execution_count": 26,
     "metadata": {},
     "output_type": "execute_result"
    }
   ],
   "source": [
    "x.reshape(1,1,1,1,2,8)"
   ]
  },
  {
   "cell_type": "markdown",
   "metadata": {},
   "source": [
    "# slicing and filtering"
   ]
  },
  {
   "cell_type": "code",
   "execution_count": 6,
   "metadata": {},
   "outputs": [
    {
     "name": "stdout",
     "output_type": "stream",
     "text": [
      "2 dimension\n",
      "16 elements\n",
      "[[8 1 1 1]\n",
      " [2 3 1 8]\n",
      " [9 6 7 8]\n",
      " [5 7 6 4]]\n",
      "firstrow [8 1 1 1]\n",
      "lastrow [5 7 6 4]\n"
     ]
    }
   ],
   "source": [
    "y = np.random.randint(1,10,(4, 4))\n",
    "print(y.ndim,'dimension')\n",
    "print(y.size,'elements')\n",
    "print(y)\n",
    "print('firstrow',y[0])\n",
    "print('lastrow',y[-1])"
   ]
  },
  {
   "cell_type": "code",
   "execution_count": 7,
   "metadata": {},
   "outputs": [
    {
     "name": "stdout",
     "output_type": "stream",
     "text": [
      "first column\n",
      " [8 2 9 5]\n",
      "last column\n",
      " [1 8 8 4]\n",
      "first 3 columns\n",
      " [[8 1 1]\n",
      " [2 3 1]\n",
      " [9 6 7]\n",
      " [5 7 6]]\n",
      "last 4 columns\n",
      " [[8 1 1 1]\n",
      " [2 3 1 8]\n",
      " [9 6 7 8]\n",
      " [5 7 6 4]]\n"
     ]
    }
   ],
   "source": [
    "# slicing for 2d object\n",
    "# arr[row,col]\n",
    "print('first column\\n',y[:,0])\n",
    "print('last column\\n',y[:,-1])\n",
    "print('first 3 columns\\n',y[:,:3])\n",
    "print('last 4 columns\\n',y[:,-4:])"
   ]
  },
  {
   "cell_type": "code",
   "execution_count": 9,
   "metadata": {},
   "outputs": [
    {
     "data": {
      "text/plain": [
       "array([[ True, False, False, False],\n",
       "       [False, False, False,  True],\n",
       "       [ True,  True,  True,  True],\n",
       "       [False,  True,  True, False]])"
      ]
     },
     "execution_count": 9,
     "metadata": {},
     "output_type": "execute_result"
    }
   ],
   "source": [
    "y > 5 # boolean filter"
   ]
  },
  {
   "cell_type": "code",
   "execution_count": 10,
   "metadata": {},
   "outputs": [
    {
     "data": {
      "text/plain": [
       "array([8, 8, 9, 6, 7, 8, 7, 6])"
      ]
     },
     "execution_count": 10,
     "metadata": {},
     "output_type": "execute_result"
    }
   ],
   "source": [
    "y[y > 5] # using boolean filter"
   ]
  },
  {
   "cell_type": "code",
   "execution_count": 11,
   "metadata": {},
   "outputs": [
    {
     "data": {
      "text/plain": [
       "array([1, 1, 1, 2, 1])"
      ]
     },
     "execution_count": 11,
     "metadata": {},
     "output_type": "execute_result"
    }
   ],
   "source": [
    "y [y < 3] "
   ]
  },
  {
   "cell_type": "code",
   "execution_count": 13,
   "metadata": {},
   "outputs": [
    {
     "data": {
      "text/plain": [
       "array([3, 5, 4])"
      ]
     },
     "execution_count": 13,
     "metadata": {},
     "output_type": "execute_result"
    }
   ],
   "source": [
    "y[(y>=3) & (y<=5)] # 3 <= y <=5"
   ]
  },
  {
   "cell_type": "code",
   "execution_count": 15,
   "metadata": {},
   "outputs": [
    {
     "ename": "ModuleNotFoundError",
     "evalue": "No module named 'matplotlib'",
     "output_type": "error",
     "traceback": [
      "\u001b[1;31m---------------------------------------------------------------------------\u001b[0m",
      "\u001b[1;31mModuleNotFoundError\u001b[0m                       Traceback (most recent call last)",
      "Cell \u001b[1;32mIn[15], line 1\u001b[0m\n\u001b[1;32m----> 1\u001b[0m \u001b[38;5;28;01mimport\u001b[39;00m \u001b[38;5;21;01mmatplotlib\u001b[39;00m\u001b[38;5;21;01m.\u001b[39;00m\u001b[38;5;21;01mpyplot\u001b[39;00m \u001b[38;5;28;01mas\u001b[39;00m \u001b[38;5;21;01mplt\u001b[39;00m\n\u001b[0;32m      3\u001b[0m x \u001b[38;5;241m=\u001b[39m np\u001b[38;5;241m.\u001b[39mlinspace(\u001b[38;5;241m0\u001b[39m,\u001b[38;5;241m10\u001b[39m,\u001b[38;5;241m100\u001b[39m)\n\u001b[0;32m      4\u001b[0m y \u001b[38;5;241m=\u001b[39m np\u001b[38;5;241m.\u001b[39msin(x)\n",
      "\u001b[1;31mModuleNotFoundError\u001b[0m: No module named 'matplotlib'"
     ]
    }
   ],
   "source": [
    "import matplotlib.pyplot as plt\n",
    "\n",
    "x = np.linspace(0,10,100)\n",
    "y = np.sin(x)\n",
    "plt.plot(x,y)\n",
    "plt.show()"
   ]
  },
  {
   "cell_type": "code",
   "execution_count": null,
   "metadata": {},
   "outputs": [],
   "source": []
  }
 ],
 "metadata": {
  "kernelspec": {
   "display_name": "base",
   "language": "python",
   "name": "python3"
  },
  "language_info": {
   "codemirror_mode": {
    "name": "ipython",
    "version": 3
   },
   "file_extension": ".py",
   "mimetype": "text/x-python",
   "name": "python",
   "nbconvert_exporter": "python",
   "pygments_lexer": "ipython3",
   "version": "3.11.4"
  }
 },
 "nbformat": 4,
 "nbformat_minor": 2
}
