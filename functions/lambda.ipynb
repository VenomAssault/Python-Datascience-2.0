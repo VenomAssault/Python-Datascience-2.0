{
 "cells": [
  {
   "cell_type": "markdown",
   "metadata": {},
   "source": [
    "# lambda expressions\n",
    "- anonymus function, a function without a name\n",
    "- and they store a variable that can later be called like a function"
   ]
  },
  {
   "cell_type": "markdown",
   "metadata": {},
   "source": [
    "a simple function in math look like\n",
    "\n",
    "- f(x) = x**2 + x-1\n",
    "- or\n",
    "- g(x,y) x+y\n",
    "- f(3)\n",
    "- g(3,4)"
   ]
  },
  {
   "cell_type": "code",
   "execution_count": 3,
   "metadata": {},
   "outputs": [
    {
     "data": {
      "text/plain": [
       "869"
      ]
     },
     "execution_count": 3,
     "metadata": {},
     "output_type": "execute_result"
    }
   ],
   "source": [
    "# lambda example 1\n",
    "f = lambda x : x**2 + x-1\n",
    "f(29)"
   ]
  },
  {
   "cell_type": "code",
   "execution_count": 5,
   "metadata": {},
   "outputs": [
    {
     "data": {
      "text/plain": [
       "5"
      ]
     },
     "execution_count": 5,
     "metadata": {},
     "output_type": "execute_result"
    }
   ],
   "source": [
    "g = lambda x,y: x+y\n",
    "g(2,3)"
   ]
  },
  {
   "cell_type": "code",
   "execution_count": 6,
   "metadata": {},
   "outputs": [
    {
     "data": {
      "text/plain": [
       "139"
      ]
     },
     "execution_count": 6,
     "metadata": {},
     "output_type": "execute_result"
    }
   ],
   "source": [
    "f(10) + g(10,20)"
   ]
  },
  {
   "cell_type": "code",
   "execution_count": 9,
   "metadata": {},
   "outputs": [
    {
     "name": "stdout",
     "output_type": "stream",
     "text": [
      "17.69180601295413\n"
     ]
    }
   ],
   "source": [
    "hyp = lambda x,y : (x**2 + y**2) ** .5\n",
    "ans = hyp(13,12)\n",
    "print(ans)"
   ]
  },
  {
   "cell_type": "markdown",
   "metadata": {},
   "source": [
    "map & filter\n",
    "- map - apply a funtion to every element in a sequence\n",
    "- filter - apply a function to every element in a sequence(iterable), return only the element that evluate to true"
   ]
  },
  {
   "cell_type": "code",
   "execution_count": 11,
   "metadata": {},
   "outputs": [
    {
     "name": "stdout",
     "output_type": "stream",
     "text": [
      "[2, 3, 4, 5]\n",
      "[4, 9, 16, 25]\n"
     ]
    }
   ],
   "source": [
    "x = [2,3,4,5]\n",
    "x2 = []\n",
    "for i in x:\n",
    "    s = i**2 # operation\n",
    "    x2.append(s)\n",
    "print(x)\n",
    "print(x2)"
   ]
  },
  {
   "cell_type": "code",
   "execution_count": 18,
   "metadata": {},
   "outputs": [
    {
     "name": "stdout",
     "output_type": "stream",
     "text": [
      "[2, 3, 4, 5, 6, 7]🔥[4, 9, 16, 25, 36, 49]🔥[8, 27, 64, 125, 216, 343]🔥[-8, -7, -6, -5, -4, -3]\n"
     ]
    }
   ],
   "source": [
    "x = [2,3,4,5,6,7]\n",
    "x2 = list(map(lambda i:i**2, x))\n",
    "x3 = list(map(lambda i:i**3, x))\n",
    "x10 = list(map(lambda i:i-10, x))\n",
    "print(x,x2,x3,x10 , sep = \"🔥\")"
   ]
  },
  {
   "cell_type": "markdown",
   "metadata": {},
   "source": [
    "wap to use the map function and perform 'i+i**2' for every element in the list\n",
    "data = [1,2,3,4,5]"
   ]
  },
  {
   "cell_type": "code",
   "execution_count": 25,
   "metadata": {},
   "outputs": [
    {
     "name": "stdout",
     "output_type": "stream",
     "text": [
      "[2, 6, 12, 20, 30]\n"
     ]
    }
   ],
   "source": [
    "data = [1,2,3,4,5]\n",
    "x = list(map(lambda i:i+i**2, data))\n",
    "print(x)"
   ]
  },
  {
   "cell_type": "code",
   "execution_count": 27,
   "metadata": {},
   "outputs": [
    {
     "name": "stdout",
     "output_type": "stream",
     "text": [
      "[2, 4, 6, 8, 10, 32, 34, 24, 32]\n",
      "[2, 4, 6, 8, 10, 32, 34, 24, 32]\n",
      "[5, 6, 7, 8, 9, 10, 32, 34, 5, 65, 45, 24, 32]\n"
     ]
    }
   ],
   "source": [
    "x = [2,3,4,5,6,7,8,9,10,32,34,5,65,45,24,32]\n",
    "odds = list(filter(lambda i:i%2 == 0, x))\n",
    "print(odds)\n",
    "evens = list(filter(lambda i:i%2==0, x))\n",
    "print(evens)\n",
    "xgtr5 = list(filter(lambda i:i>=5,x))\n",
    "print(xgtr5)"
   ]
  },
  {
   "cell_type": "code",
   "execution_count": null,
   "metadata": {},
   "outputs": [],
   "source": []
  }
 ],
 "metadata": {
  "kernelspec": {
   "display_name": "base",
   "language": "python",
   "name": "python3"
  },
  "language_info": {
   "codemirror_mode": {
    "name": "ipython",
    "version": 3
   },
   "file_extension": ".py",
   "mimetype": "text/x-python",
   "name": "python",
   "nbconvert_exporter": "python",
   "pygments_lexer": "ipython3",
   "version": "3.11.4"
  }
 },
 "nbformat": 4,
 "nbformat_minor": 2
}
