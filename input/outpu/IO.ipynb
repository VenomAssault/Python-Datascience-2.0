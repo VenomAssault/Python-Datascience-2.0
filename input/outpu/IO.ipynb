{
 "cells": [
  {
   "cell_type": "markdown",
   "metadata": {},
   "source": [
    "* display simple data \n",
    "* formatted display"
   ]
  },
  {
   "cell_type": "code",
   "execution_count": 2,
   "metadata": {},
   "outputs": [],
   "source": [
    "name = \"Alexamder\"\n",
    "age = 23"
   ]
  },
  {
   "cell_type": "code",
   "execution_count": 3,
   "metadata": {},
   "outputs": [
    {
     "name": "stdout",
     "output_type": "stream",
     "text": [
      "Alexamder\n",
      "23\n"
     ]
    }
   ],
   "source": [
    "print(name)\n",
    "print(age)"
   ]
  },
  {
   "cell_type": "code",
   "execution_count": 7,
   "metadata": {},
   "outputs": [
    {
     "name": "stdout",
     "output_type": "stream",
     "text": [
      "Your name is Alexamder\n",
      "you are 23 years old\n"
     ]
    }
   ],
   "source": [
    "print(\"Your name is\",name)\n",
    "print('you are', age, 'years old')"
   ]
  },
  {
   "cell_type": "code",
   "execution_count": 8,
   "metadata": {},
   "outputs": [
    {
     "name": "stdout",
     "output_type": "stream",
     "text": [
      "Ayush Nishant Kratagya Amaan\n"
     ]
    }
   ],
   "source": [
    "print(\"Ayush\",\"Nishant\",\"Kratagya\",\"Amaan\")"
   ]
  },
  {
   "cell_type": "code",
   "execution_count": 11,
   "metadata": {},
   "outputs": [
    {
     "name": "stdout",
     "output_type": "stream",
     "text": [
      "Ayush\n",
      "Nishant\n",
      "Kratagya\n",
      "Amaan\n"
     ]
    }
   ],
   "source": [
    "print(\"Ayush\",\"Nishant\",\"Kratagya\",\"Amaan\", sep=\"\\n\")"
   ]
  },
  {
   "cell_type": "code",
   "execution_count": 13,
   "metadata": {},
   "outputs": [
    {
     "name": "stdout",
     "output_type": "stream",
     "text": [
      "Ayush aur Nishant aur Kratagya aur Amaan\n"
     ]
    }
   ],
   "source": [
    "print(\"Ayush\",\"Nishant\",\"Kratagya\",\"Amaan\", sep=\" aur \")"
   ]
  },
  {
   "cell_type": "code",
   "execution_count": 16,
   "metadata": {},
   "outputs": [
    {
     "name": "stdout",
     "output_type": "stream",
     "text": [
      "1,2,3 "
     ]
    }
   ],
   "source": [
    "print(1, end=\",\")\n",
    "print(2, end=\",\")\n",
    "print(3, end=\" \")"
   ]
  },
  {
   "cell_type": "markdown",
   "metadata": {},
   "source": [
    "* f-string = formatted string literals"
   ]
  },
  {
   "cell_type": "code",
   "execution_count": 18,
   "metadata": {},
   "outputs": [
    {
     "name": "stdout",
     "output_type": "stream",
     "text": [
      "5 + 10 = 15\n"
     ]
    }
   ],
   "source": [
    "x = 5\n",
    "y = 10\n",
    "z = 20\n",
    "\n",
    "print(x,'+',y,'=', x+y)"
   ]
  },
  {
   "cell_type": "code",
   "execution_count": 21,
   "metadata": {},
   "outputs": [
    {
     "name": "stdout",
     "output_type": "stream",
     "text": [
      "5+10 = 15\n"
     ]
    }
   ],
   "source": [
    "print(f'{x}+{y} = {x+y}')"
   ]
  },
  {
   "cell_type": "code",
   "execution_count": 23,
   "metadata": {},
   "outputs": [
    {
     "name": "stdout",
     "output_type": "stream",
     "text": [
      "Natasha has 7 chars\n",
      "Mahak has 5 chars\n"
     ]
    }
   ],
   "source": [
    "p1 = \"Natasha\"\n",
    "p2 = \"Mahak\"\n",
    "print(f'{p1} has {len(p1)} chars')\n",
    "print(f'{p2} has {len(p2)} chars')"
   ]
  },
  {
   "cell_type": "code",
   "execution_count": 26,
   "metadata": {},
   "outputs": [
    {
     "name": "stdout",
     "output_type": "stream",
     "text": [
      "Natasha    = 7 chars\n",
      "Mahak      = 5 chars\n",
      "Sam        = 3 chars\n"
     ]
    }
   ],
   "source": [
    "p3 = \"Sam\"\n",
    "print(f'{p1:10} = {len(p1)} chars')\n",
    "print(f'{p2:10} = {len(p2)} chars')\n",
    "print(f'{p3:10} = {len(p3)} chars')"
   ]
  },
  {
   "cell_type": "code",
   "execution_count": 27,
   "metadata": {},
   "outputs": [
    {
     "name": "stdout",
     "output_type": "stream",
     "text": [
      "   Natasha = 7 chars\n",
      "     Mahak = 5 chars\n",
      "       Sam = 3 chars\n"
     ]
    }
   ],
   "source": [
    "print(f'{p1:>10} = {len(p1)} chars')\n",
    "print(f'{p2:>10} = {len(p2)} chars')\n",
    "print(f'{p3:>10} = {len(p3)} chars')"
   ]
  },
  {
   "cell_type": "code",
   "execution_count": 28,
   "metadata": {},
   "outputs": [
    {
     "name": "stdout",
     "output_type": "stream",
     "text": [
      " Natasha   = 7 chars\n",
      "  Mahak    = 5 chars\n",
      "   Sam     = 3 chars\n"
     ]
    }
   ],
   "source": [
    "print(f'{p1:^10} = {len(p1)} chars')\n",
    "print(f'{p2:^10} = {len(p2)} chars')\n",
    "print(f'{p3:^10} = {len(p3)} chars')"
   ]
  },
  {
   "cell_type": "code",
   "execution_count": 32,
   "metadata": {},
   "outputs": [
    {
     "name": "stdout",
     "output_type": "stream",
     "text": [
      "the value of pi is 3.142857142857143\n",
      "the value of pi is 3.142857\n",
      "🔥🔥🔥🔥\n"
     ]
    }
   ],
   "source": [
    "pi = 22/7\n",
    "print(f'the value of pi is {pi}')\n",
    "print(f'the value of pi is {pi:.6f}')\n",
    "print(\"🔥🔥🔥🔥\") # win + ."
   ]
  },
  {
   "cell_type": "code",
   "execution_count": 34,
   "metadata": {},
   "outputs": [
    {
     "name": "stdout",
     "output_type": "stream",
     "text": [
      "Name of city =  Lucknow\n"
     ]
    }
   ],
   "source": [
    "city = input(\"Which city do you live in? \")\n",
    "print(\"Name of city = \", city)"
   ]
  },
  {
   "cell_type": "markdown",
   "metadata": {},
   "source": [
    "# Type casting\n"
   ]
  },
  {
   "cell_type": "code",
   "execution_count": 35,
   "metadata": {},
   "outputs": [
    {
     "name": "stdout",
     "output_type": "stream",
     "text": [
      "<class 'int'>\n",
      "True <class 'bool'>\n"
     ]
    }
   ],
   "source": [
    "a = 10 \n",
    "print(type(a))\n",
    "a = bool(a) #convert a to boolean\n",
    "print(a,type(a))\n"
   ]
  },
  {
   "cell_type": "code",
   "execution_count": 36,
   "metadata": {},
   "outputs": [
    {
     "name": "stdout",
     "output_type": "stream",
     "text": [
      "100001 <class 'str'>\n",
      "100001 <class 'int'>\n"
     ]
    }
   ],
   "source": [
    "a = \"100001\"\n",
    "print(a,type(a))\n",
    "a = int(a)\n",
    "print(a, type(a))"
   ]
  },
  {
   "cell_type": "code",
   "execution_count": 37,
   "metadata": {},
   "outputs": [
    {
     "name": "stdout",
     "output_type": "stream",
     "text": [
      "3 <class 'int'>\n",
      "3.0 <class 'float'>\n"
     ]
    }
   ],
   "source": [
    "pi = int(pi)\n",
    "print(pi, type(pi))\n",
    "pi = float(pi)\n",
    "print(pi, type(pi))"
   ]
  },
  {
   "cell_type": "code",
   "execution_count": 38,
   "metadata": {},
   "outputs": [
    {
     "name": "stdout",
     "output_type": "stream",
     "text": [
      "3.000000000000000\n"
     ]
    }
   ],
   "source": [
    "print(f'{pi:.15f}')"
   ]
  },
  {
   "cell_type": "code",
   "execution_count": 39,
   "metadata": {},
   "outputs": [
    {
     "name": "stdout",
     "output_type": "stream",
     "text": [
      "5764801\n"
     ]
    }
   ],
   "source": [
    "a = int(input('Enter a: '))\n",
    "b = int(input('Enter b: '))\n",
    "print(a ** b)"
   ]
  },
  {
   "cell_type": "markdown",
   "metadata": {},
   "source": []
  },
  {
   "cell_type": "code",
   "execution_count": null,
   "metadata": {},
   "outputs": [],
   "source": []
  }
 ],
 "metadata": {
  "kernelspec": {
   "display_name": "base",
   "language": "python",
   "name": "python3"
  },
  "language_info": {
   "codemirror_mode": {
    "name": "ipython",
    "version": 3
   },
   "file_extension": ".py",
   "mimetype": "text/x-python",
   "name": "python",
   "nbconvert_exporter": "python",
   "pygments_lexer": "ipython3",
   "version": "3.11.4"
  },
  "orig_nbformat": 4
 },
 "nbformat": 4,
 "nbformat_minor": 2
}
