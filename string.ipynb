{
 "cells": [
  {
   "cell_type": "markdown",
   "metadata": {},
   "source": [
    "* indexing\n",
    "* slicing\n",
    "* methods\n",
    "* operations"
   ]
  },
  {
   "cell_type": "code",
   "execution_count": 1,
   "metadata": {},
   "outputs": [],
   "source": [
    "name = \"Shakespeare\""
   ]
  },
  {
   "cell_type": "code",
   "execution_count": 4,
   "metadata": {},
   "outputs": [
    {
     "name": "stdout",
     "output_type": "stream",
     "text": [
      "S\n",
      "s\n",
      "e\n",
      "e\n"
     ]
    }
   ],
   "source": [
    "print(name[0])\n",
    "print(name[5])\n",
    "print(name[10])\n",
    "print(name[-4])"
   ]
  },
  {
   "cell_type": "code",
   "execution_count": 25,
   "metadata": {},
   "outputs": [
    {
     "name": "stdout",
     "output_type": "stream",
     "text": [
      "Vijay\n",
      "Deenanath\n",
      "Chauhan\n",
      "Deenanath Chauhan\n",
      "Chauhan\n",
      "han\n",
      "Deenanath\n",
      "Deenanath\n",
      "htananeeD\n",
      "nahuahC htananeeD yajiV\n",
      "VjyDeaahCahn\n",
      "ia ennt hua\n"
     ]
    }
   ],
   "source": [
    "name = \"Vijay Deenanath Chauhan\"\n",
    "print(name[0:5])\n",
    "print(name[6:15])\n",
    "print(name[16:23])\n",
    "print(name[6:])\n",
    "print(name[-7:])\n",
    "print(name[-3:])\n",
    "print(name[6:-8])\n",
    "print(name[6:6+9])\n",
    "print(name[-9:5:-1])\n",
    "print(name[::-1])\n",
    "print(name[::2])\n",
    "print(name[1::2])"
   ]
  },
  {
   "cell_type": "code",
   "execution_count": 36,
   "metadata": {},
   "outputs": [
    {
     "name": "stdout",
     "output_type": "stream",
     "text": [
      "William\n",
      "Shake\n",
      "pear\n",
      "spear\n",
      "liam\n",
      "are\n"
     ]
    }
   ],
   "source": [
    "name = \"William Shakespeare\"\n",
    "print(name[:7])\n",
    "print(name[8:13])\n",
    "print(name[-5:-1])\n",
    "print(name[-6:-1])\n",
    "print(name[3:7])\n",
    "print(name[-3:])\n"
   ]
  },
  {
   "cell_type": "markdown",
   "metadata": {},
   "source": [
    "Methods in strings\n",
    "- formatting\n",
    "    - upper()\n",
    "    - lower()\n",
    "    - capitalize()\n",
    "- validation\n",
    "- utility"
   ]
  },
  {
   "cell_type": "code",
   "execution_count": 39,
   "metadata": {},
   "outputs": [
    {
     "data": {
      "text/plain": [
       "'WILLIAM SHAKESPEARE'"
      ]
     },
     "execution_count": 39,
     "metadata": {},
     "output_type": "execute_result"
    }
   ],
   "source": [
    "name.upper()"
   ]
  },
  {
   "cell_type": "code",
   "execution_count": 40,
   "metadata": {},
   "outputs": [
    {
     "name": "stdout",
     "output_type": "stream",
     "text": [
      "William Shakespeare\n",
      "WILLIAM SHAKESPEARE\n"
     ]
    }
   ],
   "source": [
    "nameU = name.upper()\n",
    "print(name)\n",
    "print(nameU)"
   ]
  },
  {
   "cell_type": "code",
   "execution_count": 49,
   "metadata": {},
   "outputs": [
    {
     "name": "stdout",
     "output_type": "stream",
     "text": [
      "william shakespeare\n",
      "William shakespeare\n",
      "William Shakespeare\n",
      "wILLIAM sHAKESPEARE\n",
      "william shakespeare\n"
     ]
    }
   ],
   "source": [
    "print(name.lower())\n",
    "print(name.capitalize())\n",
    "print(name.title())\n",
    "print(name.swapcase())\n",
    "print(name.casefold()) # Same as lower"
   ]
  },
  {
   "cell_type": "code",
   "execution_count": 51,
   "metadata": {},
   "outputs": [
    {
     "name": "stdout",
     "output_type": "stream",
     "text": [
      "10 * 15.15 = 151.5\n",
      "10 * 15.15 = 151.5\n"
     ]
    }
   ],
   "source": [
    "x = 10\n",
    "y = 15.15\n",
    "z = x * y\n",
    "print(\"{} * {} = {}\".format(x,y,z))\n",
    "print(f\"{x} * {y} = {z}\")"
   ]
  },
  {
   "cell_type": "code",
   "execution_count": 57,
   "metadata": {},
   "outputs": [
    {
     "name": "stdout",
     "output_type": "stream",
     "text": [
      "You entered Apple\n",
      "upper: False\n",
      "lower: False\n",
      "title: True\n",
      "alphabets: True\n",
      "alphabets+numbers: True\n",
      "numbers: False\n",
      "whitespace: False\n",
      "ASCII: True\n"
     ]
    }
   ],
   "source": [
    "# Validation\n",
    "a = input(\"enter any value\")\n",
    "print(f\"You entered {a}\")\n",
    "print(f\"upper: {a.isupper()}\")\n",
    "print(f\"lower: {a.islower()}\")\n",
    "print(f\"title: {a.istitle()}\")\n",
    "print(f\"alphabets: {a.isalpha()}\")\n",
    "print(f\"alphabets+numbers: {a.isalnum()}\")\n",
    "print(f\"numbers: {a.isnumeric()}\")\n",
    "print(f\"whitespace: {a.isspace()}\")\n",
    "print(f\"ASCII: {a.isascii()}\")\n",
    "\n"
   ]
  },
  {
   "cell_type": "code",
   "execution_count": 62,
   "metadata": {},
   "outputs": [
    {
     "name": "stdout",
     "output_type": "stream",
     "text": [
      "very good\n"
     ]
    }
   ],
   "source": [
    "num = (input(\"Enter a Number:\"))\n",
    "if num.isnumeric():\n",
    "    num = int(num)\n",
    "    print(\"very good\")\n",
    "else:\n",
    "    print(\"Enter number only\")"
   ]
  },
  {
   "cell_type": "code",
   "execution_count": 63,
   "metadata": {},
   "outputs": [
    {
     "name": "stdout",
     "output_type": "stream",
     "text": [
      "True\n",
      "False\n",
      "True\n",
      "True\n"
     ]
    }
   ],
   "source": [
    "x = \"hello world\"\n",
    "print(x.startswith('he'))\n",
    "print(x.startswith('He'))\n",
    "print(x.endswith('world'))\n",
    "print(x.endswith('ld'))"
   ]
  },
  {
   "cell_type": "code",
   "execution_count": 66,
   "metadata": {},
   "outputs": [
    {
     "name": "stdout",
     "output_type": "stream",
     "text": [
      "song1.mp3\n",
      "song2.mp3\n",
      "song3.mp3\n"
     ]
    }
   ],
   "source": [
    "files = ['song1.mp3','song2.mp3', 'thumb.png', 'song3.mp3','song3.ini']\n",
    "for x in files:\n",
    "    if x.endswith('mp3'):\n",
    "        print(x)\n"
   ]
  },
  {
   "cell_type": "code",
   "execution_count": null,
   "metadata": {},
   "outputs": [],
   "source": []
  }
 ],
 "metadata": {
  "kernelspec": {
   "display_name": "base",
   "language": "python",
   "name": "python3"
  },
  "language_info": {
   "codemirror_mode": {
    "name": "ipython",
    "version": 3
   },
   "file_extension": ".py",
   "mimetype": "text/x-python",
   "name": "python",
   "nbconvert_exporter": "python",
   "pygments_lexer": "ipython3",
   "version": "3.11.4"
  }
 },
 "nbformat": 4,
 "nbformat_minor": 2
}
