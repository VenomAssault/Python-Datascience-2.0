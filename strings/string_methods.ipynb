{
 "cells": [
  {
   "cell_type": "markdown",
   "metadata": {},
   "source": [
    "function vs method\n",
    "\n",
    "- functions\n",
    "    - functions are a block of code that does a particular operation and does a return,\n",
    "    - functions are used directly without the need of creating the variable object first\n",
    "\n",
    "- methods \n",
    "    - methods are a function that are associated with a variabel(object)\n",
    "    - methods cannot be used directly\n",
    "    - they need to be called using the variable (object) they are associated with"
   ]
  },
  {
   "cell_type": "code",
   "execution_count": 4,
   "metadata": {},
   "outputs": [
    {
     "name": "stdout",
     "output_type": "stream",
     "text": [
      "Hello World\n",
      "HELLO WORLD\n"
     ]
    }
   ],
   "source": [
    "print(\"Hello World\")\n",
    "print('Hello world'.upper())"
   ]
  },
  {
   "cell_type": "markdown",
   "metadata": {},
   "source": [
    "String methods\n",
    "- formatting🦴\n",
    "    - upper()\n",
    "    - lower()\n",
    "    - capitalize()\n",
    "    - title()\n",
    "    - swapcase()\n",
    "    - casefold()\n",
    "- validation🦴\n",
    "    - isalpha()\n",
    "    - isalnum()\n",
    "    - isnumeric()\n",
    "    - startswith()\n",
    "    - endswith()\n",
    "    - islower()\n",
    "- searching🦴\n",
    "    - find()\n",
    "    - count()\n",
    "    - replace()\n",
    "- utility🦴\n",
    "    - split()\n",
    "    - join()\n",
    "    - strip()\n",
    "    - removeprefix()\n",
    "    - removesuffix()"
   ]
  },
  {
   "cell_type": "code",
   "execution_count": 14,
   "metadata": {},
   "outputs": [
    {
     "name": "stdout",
     "output_type": "stream",
     "text": [
      "this is sparta\n",
      "THIS IS SPARTA\n",
      "This is sparta\n",
      "This Is Sparta\n",
      "this is sparta\n",
      "tHIS IS sPARTA\n"
     ]
    }
   ],
   "source": [
    "msg = 'This is Sparta'\n",
    "# msg = msg.lower()\n",
    "print(msg.lower())\n",
    "print(msg.upper())\n",
    "print(msg.capitalize())\n",
    "print(msg.title())\n",
    "print(msg.casefold())\n",
    "print(msg.swapcase())"
   ]
  },
  {
   "cell_type": "code",
   "execution_count": 16,
   "metadata": {},
   "outputs": [
    {
     "name": "stdout",
     "output_type": "stream",
     "text": [
      "True\n"
     ]
    }
   ],
   "source": [
    "print('abc123'.isalnum())"
   ]
  },
  {
   "cell_type": "code",
   "execution_count": 17,
   "metadata": {},
   "outputs": [
    {
     "name": "stdout",
     "output_type": "stream",
     "text": [
      "input is correct\n"
     ]
    }
   ],
   "source": [
    "num1 = input('Enter a number: ')\n",
    "if num1.isnumeric():\n",
    "    print(\"input is correct\")\n",
    "    num1 = int(num1)\n",
    "else:\n",
    "    print('input is not correct')"
   ]
  },
  {
   "cell_type": "code",
   "execution_count": 18,
   "metadata": {},
   "outputs": [
    {
     "data": {
      "text/plain": [
       "True"
      ]
     },
     "execution_count": 18,
     "metadata": {},
     "output_type": "execute_result"
    }
   ],
   "source": [
    "name = \"Dr. christopher brooks\"\n",
    "name.startswith('Dr.')"
   ]
  },
  {
   "cell_type": "code",
   "execution_count": 23,
   "metadata": {},
   "outputs": [
    {
     "name": "stdout",
     "output_type": "stream",
     "text": [
      "Kayden\n"
     ]
    }
   ],
   "source": [
    "names = ('Chris', 'Christina', 'Christian','Chiranjeevi','Kayden')\n",
    "for name in names:\n",
    "    if name.startswith('Kay'):\n",
    "        print(name)"
   ]
  },
  {
   "cell_type": "code",
   "execution_count": 30,
   "metadata": {},
   "outputs": [
    {
     "name": "stdout",
     "output_type": "stream",
     "text": [
      "0\n",
      "33\n",
      "-1\n"
     ]
    }
   ],
   "source": [
    "data = 'this is a long string with some content and is simple string'\n",
    "print(data.find('this'))\n",
    "print(data.find('on',15))\n",
    "print(data.find('simple', 5, 30)) # start, end"
   ]
  },
  {
   "cell_type": "code",
   "execution_count": 33,
   "metadata": {},
   "outputs": [
    {
     "name": "stdout",
     "output_type": "stream",
     "text": [
      "3\n",
      "2\n",
      "1\n"
     ]
    }
   ],
   "source": [
    "print(data.count('is'))\n",
    "print(data.count('a'))\n",
    "print(data.count('long'))\n"
   ]
  },
  {
   "cell_type": "code",
   "execution_count": 34,
   "metadata": {},
   "outputs": [
    {
     "data": {
      "text/plain": [
       "'thwas was a long string with some content and was simple string'"
      ]
     },
     "execution_count": 34,
     "metadata": {},
     "output_type": "execute_result"
    }
   ],
   "source": [
    "data.replace('is','was')"
   ]
  },
  {
   "cell_type": "code",
   "execution_count": 35,
   "metadata": {},
   "outputs": [
    {
     "data": {
      "text/plain": [
       "'thas as a long strang wath somo contont and as samplo strang'"
      ]
     },
     "execution_count": 35,
     "metadata": {},
     "output_type": "execute_result"
    }
   ],
   "source": [
    "data.replace('i','a').replace('e','o')"
   ]
  },
  {
   "cell_type": "code",
   "execution_count": 37,
   "metadata": {},
   "outputs": [
    {
     "data": {
      "text/plain": [
       "'ths s a lng strng wth sm cntnt and s smpl strng'"
      ]
     },
     "execution_count": 37,
     "metadata": {},
     "output_type": "execute_result"
    }
   ],
   "source": [
    "# replace used as remove\n",
    "data.replace('i','').replace('e','').replace('o','')"
   ]
  },
  {
   "cell_type": "code",
   "execution_count": 42,
   "metadata": {},
   "outputs": [
    {
     "name": "stdout",
     "output_type": "stream",
     "text": [
      "['th', 's ', 's a long str', 'ng w', 'th some content and ', 's s', 'mple str', 'ng']\n",
      "['this is a long string with some content and is simple string']\n"
     ]
    },
    {
     "data": {
      "text/plain": [
       "['apple', 'banana', 'orange']"
      ]
     },
     "execution_count": 42,
     "metadata": {},
     "output_type": "execute_result"
    }
   ],
   "source": [
    "print(data.split('i'))\n",
    "print(data.split('maxsplit=3'))\n",
    "\"apple,banana,orange\".split(',' )"
   ]
  },
  {
   "cell_type": "code",
   "execution_count": 43,
   "metadata": {},
   "outputs": [
    {
     "name": "stdout",
     "output_type": "stream",
     "text": [
      "12\n"
     ]
    }
   ],
   "source": [
    "print(len(data.split()))"
   ]
  },
  {
   "cell_type": "code",
   "execution_count": 1,
   "metadata": {},
   "outputs": [
    {
     "name": "stdout",
     "output_type": "stream",
     "text": [
      "123456\n",
      "1 2 3 4 5 6\n",
      "1,2,3,4,5,6\n",
      "1_2_3_4_5_6\n"
     ]
    }
   ],
   "source": [
    "x = ['1',\"2\",\"3\",'4','5','6']\n",
    "print(\"\".join(x))\n",
    "print(' '.join(x))\n",
    "print(','.join(x))\n",
    "print('_'.join(x))"
   ]
  },
  {
   "cell_type": "code",
   "execution_count": null,
   "metadata": {},
   "outputs": [],
   "source": []
  }
 ],
 "metadata": {
  "kernelspec": {
   "display_name": "base",
   "language": "python",
   "name": "python3"
  },
  "language_info": {
   "codemirror_mode": {
    "name": "ipython",
    "version": 3
   },
   "file_extension": ".py",
   "mimetype": "text/x-python",
   "name": "python",
   "nbconvert_exporter": "python",
   "pygments_lexer": "ipython3",
   "version": "3.11.4"
  }
 },
 "nbformat": 4,
 "nbformat_minor": 2
}
