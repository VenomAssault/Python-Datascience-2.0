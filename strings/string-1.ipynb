{
 "cells": [
  {
   "cell_type": "markdown",
   "metadata": {},
   "source": [
    "# string\n",
    "- creating\n",
    "- indexing and slicing\n",
    "- methods\n",
    "   *-formatting\n",
    "   -validation\n",
    "   -searching \n",
    "   -utilities\n",
    "- operations"
   ]
  },
  {
   "cell_type": "code",
   "execution_count": 1,
   "metadata": {},
   "outputs": [
    {
     "name": "stdout",
     "output_type": "stream",
     "text": [
      "<class 'str'> <class 'str'> <class 'str'> <class 'str'>\n",
      "apple\n",
      "Banana\n",
      "this is an example of\n",
      "a multiline\n",
      "string\n",
      "another example\n",
      "of a \n",
      "multiline string\n"
     ]
    }
   ],
   "source": [
    "a = 'apple' # single quotes\n",
    "b = 'Banana' # double quotes\n",
    "\n",
    "c = '''this is an example of\n",
    "a multiline\n",
    "string''' #triple quotes\n",
    "\n",
    "d = \"\"\"another example\n",
    "of a \n",
    "multiline string\"\"\" # triple quotes\n",
    " \n",
    "print(type(a),type(b),type(c),type(d))\n",
    "print(a)\n",
    "print(b)\n",
    "print(c)\n",
    "print(d)"
   ]
  },
  {
   "cell_type": "code",
   "execution_count": 2,
   "metadata": {},
   "outputs": [
    {
     "name": "stdout",
     "output_type": "stream",
     "text": [
      "the hippo was 5' tall\n",
      "the hippo was 5' tall\n"
     ]
    }
   ],
   "source": [
    "# msg = 'the hippo was 5' feet tall'\n",
    "msg = 'the hippo was 5\\' tall'  # escape character\n",
    "print(msg)\n",
    "msg = \"the hippo was 5' tall\"  # use double quotes\n",
    "print (msg)"
   ]
  },
  {
   "cell_type": "code",
   "execution_count": 7,
   "metadata": {},
   "outputs": [
    {
     "name": "stdout",
     "output_type": "stream",
     "text": [
      "9\n",
      "a\n",
      "n\n"
     ]
    }
   ],
   "source": [
    "name = 'alexander' # iterable\n",
    "print(len(name))\n",
    "print(name[0]) # index 0 of name variable\n",
    "print(name[-4]) # indexing from right to left"
   ]
  },
  {
   "cell_type": "code",
   "execution_count": 10,
   "metadata": {},
   "outputs": [
    {
     "name": "stdout",
     "output_type": "stream",
     "text": [
      "a👍l👍e👍x\n"
     ]
    }
   ],
   "source": [
    "print(name[0],name[1],name[2],name[3], sep = '👍')"
   ]
  },
  {
   "cell_type": "markdown",
   "metadata": {},
   "source": [
    "# slicing \n",
    "- syntax\n",
    "- '''\n",
    "    str[start:stop+1]\n",
    "    str[start:stop+1:step]\n",
    "    str[: stop+1] # starts defaults to 0\n",
    "    str[start:] # stop defaults to len(str)'''"
   ]
  },
  {
   "cell_type": "code",
   "execution_count": 11,
   "metadata": {},
   "outputs": [
    {
     "data": {
      "text/plain": [
       "'alexa'"
      ]
     },
     "execution_count": 11,
     "metadata": {},
     "output_type": "execute_result"
    }
   ],
   "source": [
    "name [0:5] # get the values at 0,1,2,3,4"
   ]
  },
  {
   "cell_type": "code",
   "execution_count": 12,
   "metadata": {},
   "outputs": [
    {
     "name": "stdout",
     "output_type": "stream",
     "text": [
      "Leonardo\n",
      "Vinci\n",
      "da Vinci\n",
      "da\n",
      "da\n"
     ]
    }
   ],
   "source": [
    "n2 = 'Leonardo da Vinci'\n",
    "print(n2[:8])\n",
    "print(n2[-5:])\n",
    "print(n2[-8:])\n",
    "print(n2[-8:-6])\n",
    "print(n2[9:11])"
   ]
  },
  {
   "cell_type": "code",
   "execution_count": 21,
   "metadata": {},
   "outputs": [
    {
     "name": "stdout",
     "output_type": "stream",
     "text": [
      "Vijay\n",
      "Deenanath\n",
      "Chauhan\n",
      "Deen\n",
      "23\n"
     ]
    }
   ],
   "source": [
    "n3 = 'Vijay Deenanath Chauhan'\n",
    "print(n3[:5])\n",
    "print(n3[6:15])\n",
    "print(n3[16:23])\n",
    "print(n3[6:10])\n",
    "print(len(n3))"
   ]
  },
  {
   "cell_type": "markdown",
   "metadata": {},
   "source": [
    "* slicing with steps"
   ]
  },
  {
   "cell_type": "code",
   "execution_count": 22,
   "metadata": {},
   "outputs": [
    {
     "data": {
      "text/plain": [
       "'VjyDeaahCahn'"
      ]
     },
     "execution_count": 22,
     "metadata": {},
     "output_type": "execute_result"
    }
   ],
   "source": [
    "n3[::2] # every other character"
   ]
  },
  {
   "cell_type": "code",
   "execution_count": 23,
   "metadata": {},
   "outputs": [
    {
     "data": {
      "text/plain": [
       "'ia ennt hua'"
      ]
     },
     "execution_count": 23,
     "metadata": {},
     "output_type": "execute_result"
    }
   ],
   "source": [
    "n3[1::2] # odd index characters"
   ]
  },
  {
   "cell_type": "code",
   "execution_count": 24,
   "metadata": {},
   "outputs": [
    {
     "data": {
      "text/plain": [
       "'iye'"
      ]
     },
     "execution_count": 24,
     "metadata": {},
     "output_type": "execute_result"
    }
   ],
   "source": [
    "n3[1:10:3] # 1,4,7, (stop at 10)"
   ]
  },
  {
   "cell_type": "code",
   "execution_count": 25,
   "metadata": {},
   "outputs": [
    {
     "data": {
      "text/plain": [
       "'nahuahC htananeeD yajiV'"
      ]
     },
     "execution_count": 25,
     "metadata": {},
     "output_type": "execute_result"
    }
   ],
   "source": [
    "n3[::-1] # reverse the string"
   ]
  },
  {
   "cell_type": "code",
   "execution_count": 28,
   "metadata": {},
   "outputs": [
    {
     "name": "stdout",
     "output_type": "stream",
     "text": [
      "s\n",
      "This is a quote from brandon sanderson,\n",
      "\"I'm not m\n",
      "This is a quote from brandon sanderson,\n",
      "\"I'm not meant to work or job anywhere\"\n"
     ]
    }
   ],
   "source": [
    "quote = '''This is a quote from brandon sanderson,\n",
    "\"I'm not meant to work or job anywhere\"'''\n",
    "print(quote[-50])\n",
    "\n",
    "print(quote[:50])\n",
    "\n",
    "print(quote[:500])"
   ]
  },
  {
   "cell_type": "markdown",
   "metadata": {},
   "source": [
    "random questions"
   ]
  },
  {
   "cell_type": "code",
   "execution_count": 31,
   "metadata": {},
   "outputs": [
    {
     "name": "stdout",
     "output_type": "stream",
     "text": [
      "1 2 3 5 8 13 21 34 55 89 144 233 "
     ]
    }
   ],
   "source": [
    "# fibonacci sequence \n",
    "a,b = 1,2\n",
    "print(a,b,end = ' ')\n",
    "for i in range (10):\n",
    "    c = a+b\n",
    "    print(c,end = ' ')\n",
    "    # swap values\n",
    "    a = b\n",
    "    b = c"
   ]
  },
  {
   "cell_type": "code",
   "execution_count": 36,
   "metadata": {},
   "outputs": [
    {
     "name": "stdout",
     "output_type": "stream",
     "text": [
      "65 129315\n",
      "A a 🤣\n"
     ]
    }
   ],
   "source": [
    "print(ord('A'),ord('🤣'))  # unicode/ascii\n",
    "print(chr(65),chr(97),chr(129315))"
   ]
  },
  {
   "cell_type": "code",
   "execution_count": null,
   "metadata": {},
   "outputs": [],
   "source": []
  }
 ],
 "metadata": {
  "kernelspec": {
   "display_name": "base",
   "language": "python",
   "name": "python3"
  },
  "language_info": {
   "codemirror_mode": {
    "name": "ipython",
    "version": 3
   },
   "file_extension": ".py",
   "mimetype": "text/x-python",
   "name": "python",
   "nbconvert_exporter": "python",
   "pygments_lexer": "ipython3",
   "version": "3.11.4"
  }
 },
 "nbformat": 4,
 "nbformat_minor": 2
}
